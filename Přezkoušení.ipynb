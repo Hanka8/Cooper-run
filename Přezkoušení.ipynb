{
 "cells": [
  {
   "cell_type": "code",
   "execution_count": 19,
   "metadata": {},
   "outputs": [
    {
     "name": "stdout",
     "output_type": "stream",
     "text": [
      "How much do you want to run in meters? 3000\n",
      "How long is one round in your stadium in meters? 333\n",
      "\n",
      "###############################################\n",
      "One round: 1 minute and 19.92 seconds.\n",
      "Average speed: 15.0 km/h.\n",
      "Pace for 1 kilometer: 3 minutes and 60.0 seconds\n"
     ]
    }
   ],
   "source": [
    "wish = input(\"How much do you want to run in meters? \")\n",
    "oval = input(\"How long is one round in your stadium in meters? \")\n",
    "\n",
    "wished_len = int(wish)\n",
    "oval_len = int(oval)\n",
    "\n",
    "time_s = 12 * 60\n",
    "one_round_s = (time_s / wished_len) * oval_len\n",
    "\n",
    "one_round_m = int(one_round_s // 60)\n",
    "one_round_seconds_remaining = round((one_round_s % 60), 2)\n",
    "\n",
    "print(\"\")\n",
    "print(\"###############################################\")\n",
    "print(\"One round:\",one_round_m, \"minute and\", one_round_seconds_remaining, \"seconds.\" )\n",
    "\n",
    "speed_km_h = (wished_len / time_s) * 3.6\n",
    "speed_rounded = round(speed_km_h, 2)\n",
    "\n",
    "print(\"Average speed:\", speed_rounded, \"km/h.\")\n",
    "\n",
    "one_kilometer = 3600 / speed_km_h\n",
    "one_kilometer_minutes = int(one_kilometer // 60)\n",
    "one_kilometer_seconds_remaining = round((one_kilometer % 60), 2)\n",
    "\n",
    "print(\"Pace for 1 kilometer:\", one_kilometer_minutes, \"minutes and\", \n",
    "     one_kilometer_seconds_remaining, \"seconds\")\n"
   ]
  },
  {
   "cell_type": "code",
   "execution_count": null,
   "metadata": {},
   "outputs": [],
   "source": []
  }
 ],
 "metadata": {
  "kernelspec": {
   "display_name": "Python 3",
   "language": "python",
   "name": "python3"
  },
  "language_info": {
   "codemirror_mode": {
    "name": "ipython",
    "version": 3
   },
   "file_extension": ".py",
   "mimetype": "text/x-python",
   "name": "python",
   "nbconvert_exporter": "python",
   "pygments_lexer": "ipython3",
   "version": "3.8.5"
  }
 },
 "nbformat": 4,
 "nbformat_minor": 4
}
